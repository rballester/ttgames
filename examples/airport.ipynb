{
 "cells": [
  {
   "cell_type": "markdown",
   "id": "f579ba77-4da6-47a0-968d-e293df84589f",
   "metadata": {},
   "source": [
    "# *ttgames*: Example Use\n",
    "\n",
    "This notebook shows how to build a TT-compressed cooperative game and compute its semivalues with the package *ttgames*. For this, we will use the classic [*airport problem*](https://en.wikipedia.org/wiki/Airport_problem).\n",
    "\n",
    "We start out by loading *ttgames* as well as the library [*tntorch*](https://github.com/rballester/tntorch), which is used for [cross-approximation](https://www.sciencedirect.com/science/article/pii/S0024379509003747):"
   ]
  },
  {
   "cell_type": "code",
   "execution_count": 1,
   "id": "a2c46146-7afc-4ce5-8cdb-38c489a10106",
   "metadata": {},
   "outputs": [],
   "source": [
    "import ttgames as tg\n",
    "import tntorch as tn"
   ]
  },
  {
   "cell_type": "markdown",
   "id": "20ea35c6-7b2c-45e4-8538-e159ae66d637",
   "metadata": {},
   "source": [
    "Let us create an instance of the airport problem with $30$ airlines (the runway lengths required by each airline are chosen uniformly at random between 0 and 1):"
   ]
  },
  {
   "cell_type": "code",
   "execution_count": 2,
   "id": "936d3035-0fff-43f3-9c69-567ac6ebcab9",
   "metadata": {},
   "outputs": [
    {
     "name": "stdout",
     "output_type": "stream",
     "text": [
      "tensor([0.4963, 0.7682, 0.0885, 0.1320, 0.3074, 0.6341, 0.4901, 0.8964, 0.4556,\n",
      "        0.6323, 0.3489, 0.4017, 0.0223, 0.1689, 0.2939, 0.5185, 0.6977, 0.8000,\n",
      "        0.1610, 0.2823, 0.6816, 0.9152, 0.3971, 0.8742, 0.4194, 0.5529, 0.9527,\n",
      "        0.0362, 0.1852, 0.3734])\n"
     ]
    }
   ],
   "source": [
    "game = tg.games.Airport(N=30)\n",
    "print(game.ak)"
   ]
  },
  {
   "cell_type": "markdown",
   "id": "0265408c-2d90-4669-87f3-cf1229d9528d",
   "metadata": {},
   "source": [
    "Next, we will learn a TT tensor out of the game's utility function:"
   ]
  },
  {
   "cell_type": "code",
   "execution_count": 3,
   "id": "f9d73945-2a7b-4ff6-b929-3922f49e9844",
   "metadata": {},
   "outputs": [
    {
     "name": "stdout",
     "output_type": "stream",
     "text": [
      "cross device is None\n",
      "Cross-approximation over a 30D domain containing 1.07374e+09 grid points:\n",
      "iter: 0  | eps: 4.452e-02 | time:   0.1747 | largest rank:   1\n",
      "iter: 1  | eps: 2.118e-02 | time:   0.7138 | largest rank:   4\n",
      "iter: 2  | eps: 9.352e-03 | time:   1.2719 | largest rank:   7\n",
      "iter: 3  | eps: 6.396e-03 | time:   1.8051 | largest rank:  10\n",
      "iter: 4  | eps: 4.224e-03 | time:   2.3234 | largest rank:  13\n",
      "iter: 5  | eps: 1.057e-04 | time:   2.8560 | largest rank:  16\n",
      "iter: 6  | eps: 1.980e-06 | time:   3.4420 | largest rank:  19 <- converged: eps < 0.0001\n",
      "Did 89222 function evaluations, which took 0.1986s (4.491e+05 evals/s)\n",
      "\n"
     ]
    }
   ],
   "source": [
    "t = tn.cross(function=game.function, domain=game.domain(), function_arg='matrix', eps=1e-4)"
   ]
  },
  {
   "cell_type": "markdown",
   "id": "88b1666e-12cb-4de7-90d3-f3d955c85777",
   "metadata": {},
   "source": [
    "As a result, `t` is a tensor train with 30 dimensions and shape 2 along each dimension (an has $2^{30} \\approx 10^9$ entries). Let us visualize it (the shape are the numbers on top, while the lower numbers denote the *TT ranks*):"
   ]
  },
  {
   "cell_type": "code",
   "execution_count": 4,
   "id": "ddc57f60-d92e-4ed1-8b53-0fdf157f313e",
   "metadata": {},
   "outputs": [
    {
     "data": {
      "text/plain": [
       "30D TT tensor:\n",
       "\n",
       "  2   2   2   2   2   2   2   2   2   2   2   2   2   2   2   2   2   2   2   2   2   2   2   2   2   2   2   2   2   2\n",
       "  |   |   |   |   |   |   |   |   |   |   |   |   |   |   |   |   |   |   |   |   |   |   |   |   |   |   |   |   |   |\n",
       " (0) (1) (2) (3) (4) (5) (6) (7) (8) (9) (10)(11)(12)(13)(14)(15)(16)(17)(18)(19)(20)(21)(22)(23)(24)(25)(26)(27)(28)(29)\n",
       " / \\ / \\ / \\ / \\ / \\ / \\ / \\ / \\ / \\ / \\ / \\ / \\ / \\ / \\ / \\ / \\ / \\ / \\ / \\ / \\ / \\ / \\ / \\ / \\ / \\ / \\ / \\ / \\ / \\ / \\\n",
       "1   2   4   8   16  19  19  19  19  19  19  19  19  19  19  19  19  19  19  19  19  19  19  19  19  19  16  8   4   2   1"
      ]
     },
     "execution_count": 4,
     "metadata": {},
     "output_type": "execute_result"
    }
   ],
   "source": [
    "t"
   ]
  },
  {
   "cell_type": "markdown",
   "id": "2da90882-ccef-4c45-871e-058857cb755b",
   "metadata": {},
   "source": [
    "Finally, we are ready to compute the Shapley values for all players of this game:"
   ]
  },
  {
   "cell_type": "code",
   "execution_count": 5,
   "id": "50a991ee-f96a-45da-ac2f-26fa30e596ce",
   "metadata": {},
   "outputs": [
    {
     "data": {
      "text/plain": [
       "tensor([0.0236, 0.0567, 0.0031, 0.0047, 0.0122, 0.0367, 0.0231, 0.0890, 0.0207,\n",
       "        0.0365, 0.0143, 0.0172, 0.0007, 0.0061, 0.0116, 0.0255, 0.0450, 0.0631,\n",
       "        0.0058, 0.0110, 0.0427, 0.0984, 0.0169, 0.0816, 0.0183, 0.0286, 0.1360,\n",
       "        0.0012, 0.0068, 0.0156])"
      ]
     },
     "execution_count": 5,
     "metadata": {},
     "output_type": "execute_result"
    }
   ],
   "source": [
    "tg.semivalues.semivalues(t, ps='shapley')"
   ]
  }
 ],
 "metadata": {
  "kernelspec": {
   "display_name": "Python 3 (ipykernel)",
   "language": "python",
   "name": "python3"
  },
  "language_info": {
   "codemirror_mode": {
    "name": "ipython",
    "version": 3
   },
   "file_extension": ".py",
   "mimetype": "text/x-python",
   "name": "python",
   "nbconvert_exporter": "python",
   "pygments_lexer": "ipython3",
   "version": "3.9.6"
  }
 },
 "nbformat": 4,
 "nbformat_minor": 5
}
